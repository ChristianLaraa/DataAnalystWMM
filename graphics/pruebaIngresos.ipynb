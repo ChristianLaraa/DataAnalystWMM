{
 "cells": [
  {
   "cell_type": "code",
   "outputs": [],
   "source": [
    "import pandas as pd"
   ],
   "metadata": {
    "collapsed": false,
    "ExecuteTime": {
     "end_time": "2024-11-11T19:20:26.857308Z",
     "start_time": "2024-11-11T19:20:26.851659Z"
    }
   },
   "id": "903586a2927c18b",
   "execution_count": 5
  },
  {
   "cell_type": "code",
   "execution_count": 6,
   "id": "initial_id",
   "metadata": {
    "collapsed": true,
    "ExecuteTime": {
     "end_time": "2024-11-11T19:20:29.289906Z",
     "start_time": "2024-11-11T19:20:29.257275Z"
    }
   },
   "outputs": [],
   "source": [
    "data=pd.read_csv('demografico.csv')"
   ]
  },
  {
   "cell_type": "code",
   "outputs": [
    {
     "data": {
      "text/plain": "   genero estado_civil             nivel_educativo  promedio_ingreso_hogar  \\\n0       0      Soltero       Preparatoria Completa                  3.6667   \n1       1      Soltero       Preparatoria Completa                  4.0000   \n2       0      Soltero     Licenciatura Incompleta                  3.5625   \n3       1      Soltero     Licenciatura Incompleta                  3.3889   \n4       0      Soltero  Carrera técnica incompleta                  2.0000   \n\n   promedio_personas_hogar  promedio_personas_dependientes  total_personas  \n0                 3.333333                        2.333333               6  \n1                 3.000000                        2.500000               8  \n2                 3.062500                        1.875000              32  \n3                 3.111111                        2.111111              36  \n4                 3.000000                        1.000000               2  ",
      "text/html": "<div>\n<style scoped>\n    .dataframe tbody tr th:only-of-type {\n        vertical-align: middle;\n    }\n\n    .dataframe tbody tr th {\n        vertical-align: top;\n    }\n\n    .dataframe thead th {\n        text-align: right;\n    }\n</style>\n<table border=\"1\" class=\"dataframe\">\n  <thead>\n    <tr style=\"text-align: right;\">\n      <th></th>\n      <th>genero</th>\n      <th>estado_civil</th>\n      <th>nivel_educativo</th>\n      <th>promedio_ingreso_hogar</th>\n      <th>promedio_personas_hogar</th>\n      <th>promedio_personas_dependientes</th>\n      <th>total_personas</th>\n    </tr>\n  </thead>\n  <tbody>\n    <tr>\n      <th>0</th>\n      <td>0</td>\n      <td>Soltero</td>\n      <td>Preparatoria Completa</td>\n      <td>3.6667</td>\n      <td>3.333333</td>\n      <td>2.333333</td>\n      <td>6</td>\n    </tr>\n    <tr>\n      <th>1</th>\n      <td>1</td>\n      <td>Soltero</td>\n      <td>Preparatoria Completa</td>\n      <td>4.0000</td>\n      <td>3.000000</td>\n      <td>2.500000</td>\n      <td>8</td>\n    </tr>\n    <tr>\n      <th>2</th>\n      <td>0</td>\n      <td>Soltero</td>\n      <td>Licenciatura Incompleta</td>\n      <td>3.5625</td>\n      <td>3.062500</td>\n      <td>1.875000</td>\n      <td>32</td>\n    </tr>\n    <tr>\n      <th>3</th>\n      <td>1</td>\n      <td>Soltero</td>\n      <td>Licenciatura Incompleta</td>\n      <td>3.3889</td>\n      <td>3.111111</td>\n      <td>2.111111</td>\n      <td>36</td>\n    </tr>\n    <tr>\n      <th>4</th>\n      <td>0</td>\n      <td>Soltero</td>\n      <td>Carrera técnica incompleta</td>\n      <td>2.0000</td>\n      <td>3.000000</td>\n      <td>1.000000</td>\n      <td>2</td>\n    </tr>\n  </tbody>\n</table>\n</div>"
     },
     "execution_count": 7,
     "metadata": {},
     "output_type": "execute_result"
    }
   ],
   "source": [
    "data.head()"
   ],
   "metadata": {
    "collapsed": false,
    "ExecuteTime": {
     "end_time": "2024-11-11T19:20:32.937321Z",
     "start_time": "2024-11-11T19:20:32.911429Z"
    }
   },
   "id": "e472cb72d9608665",
   "execution_count": 7
  },
  {
   "cell_type": "code",
   "outputs": [],
   "source": [],
   "metadata": {
    "collapsed": false
   },
   "id": "bbbfcf919190f9ba"
  }
 ],
 "metadata": {
  "kernelspec": {
   "display_name": "Python 3",
   "language": "python",
   "name": "python3"
  },
  "language_info": {
   "codemirror_mode": {
    "name": "ipython",
    "version": 2
   },
   "file_extension": ".py",
   "mimetype": "text/x-python",
   "name": "python",
   "nbconvert_exporter": "python",
   "pygments_lexer": "ipython2",
   "version": "2.7.6"
  }
 },
 "nbformat": 4,
 "nbformat_minor": 5
}
