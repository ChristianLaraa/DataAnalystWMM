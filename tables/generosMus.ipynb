{
 "cells": [
  {
   "cell_type": "code",
   "execution_count": 1,
   "id": "initial_id",
   "metadata": {
    "collapsed": true,
    "ExecuteTime": {
     "end_time": "2024-11-14T05:35:04.899885Z",
     "start_time": "2024-11-14T05:35:04.869254Z"
    }
   },
   "outputs": [
    {
     "name": "stdout",
     "output_type": "stream",
     "text": [
      "        Genero  Frecuencia\n",
      "0         Pop,          40\n",
      "1        Rock,          27\n",
      "2   Reggaeton,          25\n",
      "3     Corridos          12\n",
      "4      Hiphop,          12\n",
      "..         ...         ...\n",
      "56      música           1\n",
      "57        Rock           1\n",
      "58      Hiphop           1\n",
      "59        Trap           1\n",
      "60        Soul           1\n",
      "\n",
      "[61 rows x 2 columns]\n"
     ]
    }
   ],
   "source": [
    "import pandas as pd\n",
    "from collections import Counter\n",
    "\n",
    "# Cargar el DataFrame desde el archivo CSV\n",
    "df = pd.read_csv('generosMus.csv')\n",
    "\n",
    "# Combina todas las palabras de la columna de géneros musicales en una sola lista\n",
    "all_genres = ' '.join(df['generos_musicales_favoritos']).split()\n",
    "\n",
    "# Cuenta la frecuencia de cada género\n",
    "genre_counts = Counter(all_genres)\n",
    "\n",
    "# Convierte el resultado a un DataFrame\n",
    "genre_df = pd.DataFrame(genre_counts.items(), columns=['Genero', 'Frecuencia'])\n",
    "\n",
    "# Ordena el DataFrame por frecuencia en orden descendente\n",
    "genre_df = genre_df.sort_values(by='Frecuencia', ascending=False).reset_index(drop=True)\n",
    "\n",
    "print(genre_df)"
   ]
  },
  {
   "cell_type": "code",
   "outputs": [],
   "source": [],
   "metadata": {
    "collapsed": false
   },
   "id": "83b0a47d12afa1b4"
  }
 ],
 "metadata": {
  "kernelspec": {
   "display_name": "Python 3",
   "language": "python",
   "name": "python3"
  },
  "language_info": {
   "codemirror_mode": {
    "name": "ipython",
    "version": 2
   },
   "file_extension": ".py",
   "mimetype": "text/x-python",
   "name": "python",
   "nbconvert_exporter": "python",
   "pygments_lexer": "ipython2",
   "version": "2.7.6"
  }
 },
 "nbformat": 4,
 "nbformat_minor": 5
}
