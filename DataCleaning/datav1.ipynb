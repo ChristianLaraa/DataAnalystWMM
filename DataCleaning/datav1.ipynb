{
 "cells": [
  {
   "cell_type": "code",
   "execution_count": 1,
   "id": "initial_id",
   "metadata": {
    "collapsed": true,
    "ExecuteTime": {
     "end_time": "2024-11-08T20:31:36.254418Z",
     "start_time": "2024-11-08T20:31:36.001888Z"
    }
   },
   "outputs": [],
   "source": [
    "import pandas as pd\n",
    "import numpy as np\n",
    "import matplotlib.pyplot as plt\n",
    "import seaborn as sns\n",
    "from sklearn.impute import SimpleImputer"
   ]
  },
  {
   "cell_type": "markdown",
   "source": [],
   "metadata": {
    "collapsed": false
   },
   "id": "b0902484e0f1a14f"
  },
  {
   "cell_type": "code",
   "outputs": [],
   "source": [
    "data=pd.read_csv('datav1.csv')"
   ],
   "metadata": {
    "collapsed": false,
    "ExecuteTime": {
     "end_time": "2024-11-08T20:31:37.717220Z",
     "start_time": "2024-11-08T20:31:37.674849Z"
    }
   },
   "id": "1797315a1b0ee068",
   "execution_count": 2
  },
  {
   "cell_type": "code",
   "outputs": [
    {
     "data": {
      "text/plain": "   id  ¿Cuántos años tienes? ¿Cuál es tu género? ¿Cuál es tu estado civil?  \\\n0   1                     17           Masculino                   Soltero   \n1   2                     18            Femenino                   Soltero   \n2   3                     18           Masculino                   Soltero   \n3   4                     18           Masculino                   Soltero   \n4   5                     19           Masculino                   Soltero   \n\n  Localidad de residencia (Alcaldía o Municipio)  \\\n0                                Nicolás Romero    \n1                               Ciudad de México   \n2                                      Coyoacan    \n3                                       Coyoacan   \n4                            Ecatepec de Morelos   \n\n  ¿Cuál es tu último nivel educativo?  \\\n0               Preparatoria Completa   \n1               Preparatoria Completa   \n2             Licenciatura Incompleta   \n3               Preparatoria Completa   \n4             Licenciatura Incompleta   \n\n  ¿Dónde realizas o realizaste tu último grado de estudios?  \\\n0                                    EPOAN Atizapán           \n1                          Tecnologico de Monterrey           \n2                                               UNAM          \n3                                Teloloapan Guerrero          \n4                                               UNAM          \n\n          ¿Cuál es tu ocupación?  ¿Quién paga por tus estudios?  \\\n0  Estudio y trabajo medio tiempo        Mi padre/madre o tutor   \n1                    Solo estudio        Mi padre/madre o tutor   \n2                    Solo estudio        Mi padre/madre o tutor   \n3  Estudio y trabajo medio tiempo        Mi padre/madre o tutor   \n4  Estudio y trabajo medio tiempo        Mi padre/madre o tutor   \n\n    ¿Tienes acceso a Internet en tu hogar?    ...  \\\n0                                         Sí  ...   \n1                                         Sí  ...   \n2                                         Sí  ...   \n3                                         Sí  ...   \n4                                         Sí  ...   \n\n  ¿Con qué frecuencia compras los siguientes productos (relacionados con la industria musical: artistas, bandas, etc.)? [Cobijas o Toallas]  \\\n0                                              Nunca                                                                                          \n1                                              Nunca                                                                                          \n2                                              Nunca                                                                                          \n3                                     Ocasionalmente                                                                                          \n4                                              Nunca                                                                                          \n\n  ¿Con qué frecuencia compras los siguientes productos (relacionados con la industria musical: artistas, bandas, etc.)? [Peluches]  \\\n0                                              Nunca                                                                                 \n1                                     Ocasionalmente                                                                                 \n2                                              Nunca                                                                                 \n3                                     Ocasionalmente                                                                                 \n4                                     Ocasionalmente                                                                                 \n\n  ¿Con qué frecuencia compras los siguientes productos (relacionados con la industria musical: artistas, bandas, etc.)? [Figuras de colección]  \\\n0                                              Nunca                                                                                             \n1                                              Nunca                                                                                             \n2                                              Nunca                                                                                             \n3                                     Ocasionalmente                                                                                             \n4                                              Nunca                                                                                             \n\n  ¿Con qué frecuencia compras los siguientes productos (relacionados con la industria musical: artistas, bandas, etc.)? [Tazas, vasos o termos]  \\\n0                                              Nunca                                                                                              \n1                                              Nunca                                                                                              \n2                                              Nunca                                                                                              \n3                                          Raramente                                                                                              \n4                                     Ocasionalmente                                                                                              \n\n  ¿Con qué frecuencia compras los siguientes productos (relacionados con la industria musical: artistas, bandas, etc.)? [Stickers]  \\\n0                                     Ocasionalmente                                                                                 \n1                                          Raramente                                                                                 \n2                                              Nunca                                                                                 \n3                                     Ocasionalmente                                                                                 \n4                                     Frecuentemente                                                                                 \n\n  ¿Con qué frecuencia compras los siguientes productos (relacionados con la industria musical: artistas, bandas, etc.)? [Posters]  \\\n0                                     Ocasionalmente                                                                                \n1                                              Nunca                                                                                \n2                                              Nunca                                                                                \n3                                     Ocasionalmente                                                                                \n4                                     Ocasionalmente                                                                                \n\n  ¿Con qué frecuencia compras los siguientes productos (relacionados con la industria musical: artistas, bandas, etc.)? [Bolsas o tote bags]  \\\n0                                              Nunca                                                                                           \n1                                              Nunca                                                                                           \n2                                              Nunca                                                                                           \n3                                     Ocasionalmente                                                                                           \n4                                          Raramente                                                                                           \n\n  ¿Con qué frecuencia compras los siguientes productos (relacionados con la industria musical: artistas, bandas, etc.)? [Llaveros o pines]  \\\n0                                     Ocasionalmente                                                                                         \n1                                              Nunca                                                                                         \n2                                              Nunca                                                                                         \n3                                     Frecuentemente                                                                                         \n4                                     Ocasionalmente                                                                                         \n\n  ¿Qué otro tipo de productos compras de tus artistas o bandas favoritas?  \\\n0                                          Nomás eso                        \n1                                                NaN                        \n2                                   No compro cosas                         \n3                                             Discos                        \n4                                                NaN                        \n\n  ¿Cuáles son las marcas o productos que consumes o están presentes cuando disfrutas de tus hobbies (es decir, mientras juegas videojuegos, haces ejercicio, escuchas música, sales con amigos, etc.)?     \n0                          Chips, Carlos V, fuze tea                                                                                                                                                       \n1    sonny (audifonos), iphone , nike, converse, etc                                                                                                                                                       \n2                            Nike, Adidas, gymshark                                                                                                                                                        \n3                                           Sabritas                                                                                                                                                       \n4           accesorios (audifonos), snacks (bebidas)                                                                                                                                                       \n\n[5 rows x 112 columns]",
      "text/html": "<div>\n<style scoped>\n    .dataframe tbody tr th:only-of-type {\n        vertical-align: middle;\n    }\n\n    .dataframe tbody tr th {\n        vertical-align: top;\n    }\n\n    .dataframe thead th {\n        text-align: right;\n    }\n</style>\n<table border=\"1\" class=\"dataframe\">\n  <thead>\n    <tr style=\"text-align: right;\">\n      <th></th>\n      <th>id</th>\n      <th>¿Cuántos años tienes?</th>\n      <th>¿Cuál es tu género?</th>\n      <th>¿Cuál es tu estado civil?</th>\n      <th>Localidad de residencia (Alcaldía o Municipio)</th>\n      <th>¿Cuál es tu último nivel educativo?</th>\n      <th>¿Dónde realizas o realizaste tu último grado de estudios?</th>\n      <th>¿Cuál es tu ocupación?</th>\n      <th>¿Quién paga por tus estudios?</th>\n      <th>¿Tienes acceso a Internet en tu hogar?</th>\n      <th>...</th>\n      <th>¿Con qué frecuencia compras los siguientes productos (relacionados con la industria musical: artistas, bandas, etc.)? [Cobijas o Toallas]</th>\n      <th>¿Con qué frecuencia compras los siguientes productos (relacionados con la industria musical: artistas, bandas, etc.)? [Peluches]</th>\n      <th>¿Con qué frecuencia compras los siguientes productos (relacionados con la industria musical: artistas, bandas, etc.)? [Figuras de colección]</th>\n      <th>¿Con qué frecuencia compras los siguientes productos (relacionados con la industria musical: artistas, bandas, etc.)? [Tazas, vasos o termos]</th>\n      <th>¿Con qué frecuencia compras los siguientes productos (relacionados con la industria musical: artistas, bandas, etc.)? [Stickers]</th>\n      <th>¿Con qué frecuencia compras los siguientes productos (relacionados con la industria musical: artistas, bandas, etc.)? [Posters]</th>\n      <th>¿Con qué frecuencia compras los siguientes productos (relacionados con la industria musical: artistas, bandas, etc.)? [Bolsas o tote bags]</th>\n      <th>¿Con qué frecuencia compras los siguientes productos (relacionados con la industria musical: artistas, bandas, etc.)? [Llaveros o pines]</th>\n      <th>¿Qué otro tipo de productos compras de tus artistas o bandas favoritas?</th>\n      <th>¿Cuáles son las marcas o productos que consumes o están presentes cuando disfrutas de tus hobbies (es decir, mientras juegas videojuegos, haces ejercicio, escuchas música, sales con amigos, etc.)?</th>\n    </tr>\n  </thead>\n  <tbody>\n    <tr>\n      <th>0</th>\n      <td>1</td>\n      <td>17</td>\n      <td>Masculino</td>\n      <td>Soltero</td>\n      <td>Nicolás Romero</td>\n      <td>Preparatoria Completa</td>\n      <td>EPOAN Atizapán</td>\n      <td>Estudio y trabajo medio tiempo</td>\n      <td>Mi padre/madre o tutor</td>\n      <td>Sí</td>\n      <td>...</td>\n      <td>Nunca</td>\n      <td>Nunca</td>\n      <td>Nunca</td>\n      <td>Nunca</td>\n      <td>Ocasionalmente</td>\n      <td>Ocasionalmente</td>\n      <td>Nunca</td>\n      <td>Ocasionalmente</td>\n      <td>Nomás eso</td>\n      <td>Chips, Carlos V, fuze tea</td>\n    </tr>\n    <tr>\n      <th>1</th>\n      <td>2</td>\n      <td>18</td>\n      <td>Femenino</td>\n      <td>Soltero</td>\n      <td>Ciudad de México</td>\n      <td>Preparatoria Completa</td>\n      <td>Tecnologico de Monterrey</td>\n      <td>Solo estudio</td>\n      <td>Mi padre/madre o tutor</td>\n      <td>Sí</td>\n      <td>...</td>\n      <td>Nunca</td>\n      <td>Ocasionalmente</td>\n      <td>Nunca</td>\n      <td>Nunca</td>\n      <td>Raramente</td>\n      <td>Nunca</td>\n      <td>Nunca</td>\n      <td>Nunca</td>\n      <td>NaN</td>\n      <td>sonny (audifonos), iphone , nike, converse, etc</td>\n    </tr>\n    <tr>\n      <th>2</th>\n      <td>3</td>\n      <td>18</td>\n      <td>Masculino</td>\n      <td>Soltero</td>\n      <td>Coyoacan</td>\n      <td>Licenciatura Incompleta</td>\n      <td>UNAM</td>\n      <td>Solo estudio</td>\n      <td>Mi padre/madre o tutor</td>\n      <td>Sí</td>\n      <td>...</td>\n      <td>Nunca</td>\n      <td>Nunca</td>\n      <td>Nunca</td>\n      <td>Nunca</td>\n      <td>Nunca</td>\n      <td>Nunca</td>\n      <td>Nunca</td>\n      <td>Nunca</td>\n      <td>No compro cosas</td>\n      <td>Nike, Adidas, gymshark</td>\n    </tr>\n    <tr>\n      <th>3</th>\n      <td>4</td>\n      <td>18</td>\n      <td>Masculino</td>\n      <td>Soltero</td>\n      <td>Coyoacan</td>\n      <td>Preparatoria Completa</td>\n      <td>Teloloapan Guerrero</td>\n      <td>Estudio y trabajo medio tiempo</td>\n      <td>Mi padre/madre o tutor</td>\n      <td>Sí</td>\n      <td>...</td>\n      <td>Ocasionalmente</td>\n      <td>Ocasionalmente</td>\n      <td>Ocasionalmente</td>\n      <td>Raramente</td>\n      <td>Ocasionalmente</td>\n      <td>Ocasionalmente</td>\n      <td>Ocasionalmente</td>\n      <td>Frecuentemente</td>\n      <td>Discos</td>\n      <td>Sabritas</td>\n    </tr>\n    <tr>\n      <th>4</th>\n      <td>5</td>\n      <td>19</td>\n      <td>Masculino</td>\n      <td>Soltero</td>\n      <td>Ecatepec de Morelos</td>\n      <td>Licenciatura Incompleta</td>\n      <td>UNAM</td>\n      <td>Estudio y trabajo medio tiempo</td>\n      <td>Mi padre/madre o tutor</td>\n      <td>Sí</td>\n      <td>...</td>\n      <td>Nunca</td>\n      <td>Ocasionalmente</td>\n      <td>Nunca</td>\n      <td>Ocasionalmente</td>\n      <td>Frecuentemente</td>\n      <td>Ocasionalmente</td>\n      <td>Raramente</td>\n      <td>Ocasionalmente</td>\n      <td>NaN</td>\n      <td>accesorios (audifonos), snacks (bebidas)</td>\n    </tr>\n  </tbody>\n</table>\n<p>5 rows × 112 columns</p>\n</div>"
     },
     "execution_count": 3,
     "metadata": {},
     "output_type": "execute_result"
    }
   ],
   "source": [
    "data.head()"
   ],
   "metadata": {
    "collapsed": false,
    "ExecuteTime": {
     "end_time": "2024-11-08T20:31:40.516908Z",
     "start_time": "2024-11-08T20:31:40.509268Z"
    }
   },
   "id": "5388b8ddb7b7a175",
   "execution_count": 3
  },
  {
   "cell_type": "code",
   "outputs": [],
   "source": [],
   "metadata": {
    "collapsed": false
   },
   "id": "524d62c30ff64b93"
  }
 ],
 "metadata": {
  "kernelspec": {
   "display_name": "Python 3",
   "language": "python",
   "name": "python3"
  },
  "language_info": {
   "codemirror_mode": {
    "name": "ipython",
    "version": 2
   },
   "file_extension": ".py",
   "mimetype": "text/x-python",
   "name": "python",
   "nbconvert_exporter": "python",
   "pygments_lexer": "ipython2",
   "version": "2.7.6"
  }
 },
 "nbformat": 4,
 "nbformat_minor": 5
}
