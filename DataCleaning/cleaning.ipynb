{
 "cells": [
  {
   "cell_type": "code",
   "outputs": [],
   "source": [
    "import pandas as pd\n",
    "import numpy as np\n",
    "import matplotlib.pyplot as plt\n",
    "import seaborn as sns\n",
    "from sklearn.impute import SimpleImputer"
   ],
   "metadata": {
    "collapsed": false
   }
  },
  {
   "cell_type": "markdown",
   "source": [
    "cargamos los datos"
   ],
   "metadata": {
    "collapsed": false
   }
  },
  {
   "cell_type": "code",
   "outputs": [],
   "source": [
    "data=pd.read_csv('data.csv')"
   ],
   "metadata": {
    "collapsed": false,
    "ExecuteTime": {
     "end_time": "2024-11-08T21:17:00.963267Z",
     "start_time": "2024-11-08T21:17:00.948458Z"
    }
   },
   "execution_count": 15
  },
  {
   "cell_type": "markdown",
   "source": [
    "metodo"
   ],
   "metadata": {
    "collapsed": false
   }
  },
  {
   "cell_type": "code",
   "outputs": [
    {
     "data": {
      "text/plain": "   id  ¿Cuántos años tienes? ¿Cuál es tu género? ¿Cuál es tu estado civil?  \\\n0   1                     17           Masculino                   Soltero   \n1   2                     18            Femenino                   Soltero   \n2   3                     18           Masculino                   Soltero   \n3   4                     18           Masculino                   Soltero   \n4   5                     19           Masculino                   Soltero   \n\n  Localidad de residencia (Alcaldía o Municipio)  \\\n0                                Nicolás Romero    \n1                               Ciudad de México   \n2                                      Coyoacan    \n3                                       Coyoacan   \n4                            Ecatepec de Morelos   \n\n  ¿Cuál es tu último nivel educativo?  \\\n0               Preparatoria Completa   \n1               Preparatoria Completa   \n2             Licenciatura Incompleta   \n3               Preparatoria Completa   \n4             Licenciatura Incompleta   \n\n  ¿Dónde realizas o realizaste tu último grado de estudios?  \\\n0                                    EPOAN Atizapán           \n1                          Tecnologico de Monterrey           \n2                                               UNAM          \n3                                Teloloapan Guerrero          \n4                                               UNAM          \n\n          ¿Cuál es tu ocupación?  ¿Quién paga por tus estudios?  \\\n0  Estudio y trabajo medio tiempo        Mi padre/madre o tutor   \n1                    Solo estudio        Mi padre/madre o tutor   \n2                    Solo estudio        Mi padre/madre o tutor   \n3  Estudio y trabajo medio tiempo        Mi padre/madre o tutor   \n4  Estudio y trabajo medio tiempo        Mi padre/madre o tutor   \n\n    ¿Tienes acceso a Internet en tu hogar?    ...  \\\n0                                         Sí  ...   \n1                                         Sí  ...   \n2                                         Sí  ...   \n3                                         Sí  ...   \n4                                         Sí  ...   \n\n  ¿Con qué frecuencia compras los siguientes productos (relacionados con la industria musical: artistas, bandas, etc.)? [Cobijas o Toallas]  \\\n0                                                  0                                                                                          \n1                                                  0                                                                                          \n2                                                  0                                                                                          \n3                                                  2                                                                                          \n4                                                  0                                                                                          \n\n  ¿Con qué frecuencia compras los siguientes productos (relacionados con la industria musical: artistas, bandas, etc.)? [Peluches]  \\\n0                                                  0                                                                                 \n1                                                  2                                                                                 \n2                                                  0                                                                                 \n3                                                  2                                                                                 \n4                                                  2                                                                                 \n\n  ¿Con qué frecuencia compras los siguientes productos (relacionados con la industria musical: artistas, bandas, etc.)? [Figuras de colección]  \\\n0                                                  0                                                                                             \n1                                                  0                                                                                             \n2                                                  0                                                                                             \n3                                                  2                                                                                             \n4                                                  0                                                                                             \n\n  ¿Con qué frecuencia compras los siguientes productos (relacionados con la industria musical: artistas, bandas, etc.)? [Tazas, vasos o termos]  \\\n0                                                  0                                                                                              \n1                                                  0                                                                                              \n2                                                  0                                                                                              \n3                                                  1                                                                                              \n4                                                  2                                                                                              \n\n  ¿Con qué frecuencia compras los siguientes productos (relacionados con la industria musical: artistas, bandas, etc.)? [Stickers]  \\\n0                                                  2                                                                                 \n1                                                  1                                                                                 \n2                                                  0                                                                                 \n3                                                  2                                                                                 \n4                                                  3                                                                                 \n\n  ¿Con qué frecuencia compras los siguientes productos (relacionados con la industria musical: artistas, bandas, etc.)? [Posters]  \\\n0                                                  2                                                                                \n1                                                  0                                                                                \n2                                                  0                                                                                \n3                                                  2                                                                                \n4                                                  2                                                                                \n\n  ¿Con qué frecuencia compras los siguientes productos (relacionados con la industria musical: artistas, bandas, etc.)? [Bolsas o tote bags]  \\\n0                                                  0                                                                                           \n1                                                  0                                                                                           \n2                                                  0                                                                                           \n3                                                  2                                                                                           \n4                                                  1                                                                                           \n\n  ¿Con qué frecuencia compras los siguientes productos (relacionados con la industria musical: artistas, bandas, etc.)? [Llaveros o pines]  \\\n0                                                  2                                                                                         \n1                                                  0                                                                                         \n2                                                  0                                                                                         \n3                                                  3                                                                                         \n4                                                  2                                                                                         \n\n  ¿Qué otro tipo de productos compras de tus artistas o bandas favoritas?  \\\n0                                          Nomás eso                        \n1                                                NaN                        \n2                                   No compro cosas                         \n3                                             Discos                        \n4                                                NaN                        \n\n  ¿Cuáles son las marcas o productos que consumes o están presentes cuando disfrutas de tus hobbies (es decir, mientras juegas videojuegos, haces ejercicio, escuchas música, sales con amigos, etc.)?     \n0                          Chips, Carlos V, fuze tea                                                                                                                                                       \n1    sonny (audifonos), iphone , nike, converse, etc                                                                                                                                                       \n2                            Nike, Adidas, gymshark                                                                                                                                                        \n3                                           Sabritas                                                                                                                                                       \n4           accesorios (audifonos), snacks (bebidas)                                                                                                                                                       \n\n[5 rows x 112 columns]",
      "text/html": "<div>\n<style scoped>\n    .dataframe tbody tr th:only-of-type {\n        vertical-align: middle;\n    }\n\n    .dataframe tbody tr th {\n        vertical-align: top;\n    }\n\n    .dataframe thead th {\n        text-align: right;\n    }\n</style>\n<table border=\"1\" class=\"dataframe\">\n  <thead>\n    <tr style=\"text-align: right;\">\n      <th></th>\n      <th>id</th>\n      <th>¿Cuántos años tienes?</th>\n      <th>¿Cuál es tu género?</th>\n      <th>¿Cuál es tu estado civil?</th>\n      <th>Localidad de residencia (Alcaldía o Municipio)</th>\n      <th>¿Cuál es tu último nivel educativo?</th>\n      <th>¿Dónde realizas o realizaste tu último grado de estudios?</th>\n      <th>¿Cuál es tu ocupación?</th>\n      <th>¿Quién paga por tus estudios?</th>\n      <th>¿Tienes acceso a Internet en tu hogar?</th>\n      <th>...</th>\n      <th>¿Con qué frecuencia compras los siguientes productos (relacionados con la industria musical: artistas, bandas, etc.)? [Cobijas o Toallas]</th>\n      <th>¿Con qué frecuencia compras los siguientes productos (relacionados con la industria musical: artistas, bandas, etc.)? [Peluches]</th>\n      <th>¿Con qué frecuencia compras los siguientes productos (relacionados con la industria musical: artistas, bandas, etc.)? [Figuras de colección]</th>\n      <th>¿Con qué frecuencia compras los siguientes productos (relacionados con la industria musical: artistas, bandas, etc.)? [Tazas, vasos o termos]</th>\n      <th>¿Con qué frecuencia compras los siguientes productos (relacionados con la industria musical: artistas, bandas, etc.)? [Stickers]</th>\n      <th>¿Con qué frecuencia compras los siguientes productos (relacionados con la industria musical: artistas, bandas, etc.)? [Posters]</th>\n      <th>¿Con qué frecuencia compras los siguientes productos (relacionados con la industria musical: artistas, bandas, etc.)? [Bolsas o tote bags]</th>\n      <th>¿Con qué frecuencia compras los siguientes productos (relacionados con la industria musical: artistas, bandas, etc.)? [Llaveros o pines]</th>\n      <th>¿Qué otro tipo de productos compras de tus artistas o bandas favoritas?</th>\n      <th>¿Cuáles son las marcas o productos que consumes o están presentes cuando disfrutas de tus hobbies (es decir, mientras juegas videojuegos, haces ejercicio, escuchas música, sales con amigos, etc.)?</th>\n    </tr>\n  </thead>\n  <tbody>\n    <tr>\n      <th>0</th>\n      <td>1</td>\n      <td>17</td>\n      <td>Masculino</td>\n      <td>Soltero</td>\n      <td>Nicolás Romero</td>\n      <td>Preparatoria Completa</td>\n      <td>EPOAN Atizapán</td>\n      <td>Estudio y trabajo medio tiempo</td>\n      <td>Mi padre/madre o tutor</td>\n      <td>Sí</td>\n      <td>...</td>\n      <td>0</td>\n      <td>0</td>\n      <td>0</td>\n      <td>0</td>\n      <td>2</td>\n      <td>2</td>\n      <td>0</td>\n      <td>2</td>\n      <td>Nomás eso</td>\n      <td>Chips, Carlos V, fuze tea</td>\n    </tr>\n    <tr>\n      <th>1</th>\n      <td>2</td>\n      <td>18</td>\n      <td>Femenino</td>\n      <td>Soltero</td>\n      <td>Ciudad de México</td>\n      <td>Preparatoria Completa</td>\n      <td>Tecnologico de Monterrey</td>\n      <td>Solo estudio</td>\n      <td>Mi padre/madre o tutor</td>\n      <td>Sí</td>\n      <td>...</td>\n      <td>0</td>\n      <td>2</td>\n      <td>0</td>\n      <td>0</td>\n      <td>1</td>\n      <td>0</td>\n      <td>0</td>\n      <td>0</td>\n      <td>NaN</td>\n      <td>sonny (audifonos), iphone , nike, converse, etc</td>\n    </tr>\n    <tr>\n      <th>2</th>\n      <td>3</td>\n      <td>18</td>\n      <td>Masculino</td>\n      <td>Soltero</td>\n      <td>Coyoacan</td>\n      <td>Licenciatura Incompleta</td>\n      <td>UNAM</td>\n      <td>Solo estudio</td>\n      <td>Mi padre/madre o tutor</td>\n      <td>Sí</td>\n      <td>...</td>\n      <td>0</td>\n      <td>0</td>\n      <td>0</td>\n      <td>0</td>\n      <td>0</td>\n      <td>0</td>\n      <td>0</td>\n      <td>0</td>\n      <td>No compro cosas</td>\n      <td>Nike, Adidas, gymshark</td>\n    </tr>\n    <tr>\n      <th>3</th>\n      <td>4</td>\n      <td>18</td>\n      <td>Masculino</td>\n      <td>Soltero</td>\n      <td>Coyoacan</td>\n      <td>Preparatoria Completa</td>\n      <td>Teloloapan Guerrero</td>\n      <td>Estudio y trabajo medio tiempo</td>\n      <td>Mi padre/madre o tutor</td>\n      <td>Sí</td>\n      <td>...</td>\n      <td>2</td>\n      <td>2</td>\n      <td>2</td>\n      <td>1</td>\n      <td>2</td>\n      <td>2</td>\n      <td>2</td>\n      <td>3</td>\n      <td>Discos</td>\n      <td>Sabritas</td>\n    </tr>\n    <tr>\n      <th>4</th>\n      <td>5</td>\n      <td>19</td>\n      <td>Masculino</td>\n      <td>Soltero</td>\n      <td>Ecatepec de Morelos</td>\n      <td>Licenciatura Incompleta</td>\n      <td>UNAM</td>\n      <td>Estudio y trabajo medio tiempo</td>\n      <td>Mi padre/madre o tutor</td>\n      <td>Sí</td>\n      <td>...</td>\n      <td>0</td>\n      <td>2</td>\n      <td>0</td>\n      <td>2</td>\n      <td>3</td>\n      <td>2</td>\n      <td>1</td>\n      <td>2</td>\n      <td>NaN</td>\n      <td>accesorios (audifonos), snacks (bebidas)</td>\n    </tr>\n  </tbody>\n</table>\n<p>5 rows × 112 columns</p>\n</div>"
     },
     "execution_count": 16,
     "metadata": {},
     "output_type": "execute_result"
    }
   ],
   "source": [
    "data.head()"
   ],
   "metadata": {
    "collapsed": false,
    "ExecuteTime": {
     "end_time": "2024-11-08T21:17:06.614855Z",
     "start_time": "2024-11-08T21:17:06.570524Z"
    }
   },
   "execution_count": 16
  },
  {
   "cell_type": "markdown",
   "source": [
    "Descripcion estadistica de las columnas numericas"
   ],
   "metadata": {
    "collapsed": false
   }
  },
  {
   "cell_type": "code",
   "outputs": [
    {
     "data": {
      "text/plain": "               id  ¿Cuántos años tienes?\ncount  129.000000             129.000000\nmean    65.000000              24.100775\nstd     37.383151               7.926267\nmin      1.000000              17.000000\n25%     33.000000              20.000000\n50%     65.000000              21.000000\n75%     97.000000              23.000000\nmax    129.000000              59.000000",
      "text/html": "<div>\n<style scoped>\n    .dataframe tbody tr th:only-of-type {\n        vertical-align: middle;\n    }\n\n    .dataframe tbody tr th {\n        vertical-align: top;\n    }\n\n    .dataframe thead th {\n        text-align: right;\n    }\n</style>\n<table border=\"1\" class=\"dataframe\">\n  <thead>\n    <tr style=\"text-align: right;\">\n      <th></th>\n      <th>id</th>\n      <th>¿Cuántos años tienes?</th>\n    </tr>\n  </thead>\n  <tbody>\n    <tr>\n      <th>count</th>\n      <td>129.000000</td>\n      <td>129.000000</td>\n    </tr>\n    <tr>\n      <th>mean</th>\n      <td>65.000000</td>\n      <td>24.100775</td>\n    </tr>\n    <tr>\n      <th>std</th>\n      <td>37.383151</td>\n      <td>7.926267</td>\n    </tr>\n    <tr>\n      <th>min</th>\n      <td>1.000000</td>\n      <td>17.000000</td>\n    </tr>\n    <tr>\n      <th>25%</th>\n      <td>33.000000</td>\n      <td>20.000000</td>\n    </tr>\n    <tr>\n      <th>50%</th>\n      <td>65.000000</td>\n      <td>21.000000</td>\n    </tr>\n    <tr>\n      <th>75%</th>\n      <td>97.000000</td>\n      <td>23.000000</td>\n    </tr>\n    <tr>\n      <th>max</th>\n      <td>129.000000</td>\n      <td>59.000000</td>\n    </tr>\n  </tbody>\n</table>\n</div>"
     },
     "execution_count": 7,
     "metadata": {},
     "output_type": "execute_result"
    }
   ],
   "source": [
    "data.describe()"
   ],
   "metadata": {
    "collapsed": false,
    "ExecuteTime": {
     "end_time": "2024-11-08T20:01:05.363737Z",
     "start_time": "2024-11-08T20:01:05.331292Z"
    }
   },
   "execution_count": 7
  },
  {
   "cell_type": "markdown",
   "source": [
    "Descripcion de las columnas categoricas"
   ],
   "metadata": {
    "collapsed": false
   }
  },
  {
   "cell_type": "code",
   "outputs": [
    {
     "data": {
      "text/plain": "       ¿Cuál es tu género? ¿Cuál es tu estado civil?  \\\ncount                  129                       129   \nunique                   3                         6   \ntop               Femenino                   Soltero   \nfreq                    70                       114   \n\n       Localidad de residencia (Alcaldía o Municipio)  \\\ncount                                             129   \nunique                                             74   \ntop                                     Azcapotzalco    \nfreq                                                8   \n\n       ¿Cuál es tu último nivel educativo?  \\\ncount                                  129   \nunique                                   7   \ntop                Licenciatura Incompleta   \nfreq                                    74   \n\n       ¿Dónde realizas o realizaste tu último grado de estudios?  \\\ncount                                                 129          \nunique                                                 99          \ntop                                                  UNAM          \nfreq                                                   11          \n\n       ¿Cuál es tu ocupación?  ¿Quién paga por tus estudios?  \\\ncount                      129                            95   \nunique                      10                             6   \ntop               Solo estudio        Mi padre/madre o tutor   \nfreq                        53                            80   \n\n         ¿Tienes acceso a Internet en tu hogar?    \\\ncount                                         129   \nunique                                          1   \ntop                                            Sí   \nfreq                                          129   \n\n       ¿Cuántos baños completos (con inodoro y regadera) hay en tu hogar?    \\\ncount                                                 129                     \nunique                                                  5                     \ntop                                                     1                     \nfreq                                                   55                     \n\n         ¿Cuántos automóviles hay en tu hogar?    ...  \\\ncount                                        129  ...   \nunique                                         6  ...   \ntop                                            1  ...   \nfreq                                          49  ...   \n\n       ¿Con qué frecuencia compras los siguientes productos (relacionados con la industria musical: artistas, bandas, etc.)? [Cobijas o Toallas]  \\\ncount                                                 129                                                                                          \nunique                                                  4                                                                                          \ntop                                                 Nunca                                                                                          \nfreq                                                   91                                                                                          \n\n       ¿Con qué frecuencia compras los siguientes productos (relacionados con la industria musical: artistas, bandas, etc.)? [Peluches]  \\\ncount                                                 129                                                                                 \nunique                                                  4                                                                                 \ntop                                                 Nunca                                                                                 \nfreq                                                   82                                                                                 \n\n       ¿Con qué frecuencia compras los siguientes productos (relacionados con la industria musical: artistas, bandas, etc.)? [Figuras de colección]  \\\ncount                                                 129                                                                                             \nunique                                                  4                                                                                             \ntop                                                 Nunca                                                                                             \nfreq                                                   82                                                                                             \n\n       ¿Con qué frecuencia compras los siguientes productos (relacionados con la industria musical: artistas, bandas, etc.)? [Tazas, vasos o termos]  \\\ncount                                                 129                                                                                              \nunique                                                  4                                                                                              \ntop                                                 Nunca                                                                                              \nfreq                                                   64                                                                                              \n\n       ¿Con qué frecuencia compras los siguientes productos (relacionados con la industria musical: artistas, bandas, etc.)? [Stickers]  \\\ncount                                                 129                                                                                 \nunique                                                  4                                                                                 \ntop                                                 Nunca                                                                                 \nfreq                                                   50                                                                                 \n\n       ¿Con qué frecuencia compras los siguientes productos (relacionados con la industria musical: artistas, bandas, etc.)? [Posters]  \\\ncount                                                 129                                                                                \nunique                                                  4                                                                                \ntop                                                 Nunca                                                                                \nfreq                                                   49                                                                                \n\n       ¿Con qué frecuencia compras los siguientes productos (relacionados con la industria musical: artistas, bandas, etc.)? [Bolsas o tote bags]  \\\ncount                                                 129                                                                                           \nunique                                                  4                                                                                           \ntop                                                 Nunca                                                                                           \nfreq                                                   63                                                                                           \n\n       ¿Con qué frecuencia compras los siguientes productos (relacionados con la industria musical: artistas, bandas, etc.)? [Llaveros o pines]  \\\ncount                                                 129                                                                                         \nunique                                                  4                                                                                         \ntop                                                 Nunca                                                                                         \nfreq                                                   42                                                                                         \n\n       ¿Qué otro tipo de productos compras de tus artistas o bandas favoritas?  \\\ncount                                                  96                        \nunique                                                 83                        \ntop                                              Ninguno                         \nfreq                                                    6                        \n\n       ¿Cuáles son las marcas o productos que consumes o están presentes cuando disfrutas de tus hobbies (es decir, mientras juegas videojuegos, haces ejercicio, escuchas música, sales con amigos, etc.)?     \ncount                                                 128                                                                                                                                                       \nunique                                                116                                                                                                                                                       \ntop                                                     .                                                                                                                                                       \nfreq                                                    5                                                                                                                                                       \n\n[4 rows x 110 columns]",
      "text/html": "<div>\n<style scoped>\n    .dataframe tbody tr th:only-of-type {\n        vertical-align: middle;\n    }\n\n    .dataframe tbody tr th {\n        vertical-align: top;\n    }\n\n    .dataframe thead th {\n        text-align: right;\n    }\n</style>\n<table border=\"1\" class=\"dataframe\">\n  <thead>\n    <tr style=\"text-align: right;\">\n      <th></th>\n      <th>¿Cuál es tu género?</th>\n      <th>¿Cuál es tu estado civil?</th>\n      <th>Localidad de residencia (Alcaldía o Municipio)</th>\n      <th>¿Cuál es tu último nivel educativo?</th>\n      <th>¿Dónde realizas o realizaste tu último grado de estudios?</th>\n      <th>¿Cuál es tu ocupación?</th>\n      <th>¿Quién paga por tus estudios?</th>\n      <th>¿Tienes acceso a Internet en tu hogar?</th>\n      <th>¿Cuántos baños completos (con inodoro y regadera) hay en tu hogar?</th>\n      <th>¿Cuántos automóviles hay en tu hogar?</th>\n      <th>...</th>\n      <th>¿Con qué frecuencia compras los siguientes productos (relacionados con la industria musical: artistas, bandas, etc.)? [Cobijas o Toallas]</th>\n      <th>¿Con qué frecuencia compras los siguientes productos (relacionados con la industria musical: artistas, bandas, etc.)? [Peluches]</th>\n      <th>¿Con qué frecuencia compras los siguientes productos (relacionados con la industria musical: artistas, bandas, etc.)? [Figuras de colección]</th>\n      <th>¿Con qué frecuencia compras los siguientes productos (relacionados con la industria musical: artistas, bandas, etc.)? [Tazas, vasos o termos]</th>\n      <th>¿Con qué frecuencia compras los siguientes productos (relacionados con la industria musical: artistas, bandas, etc.)? [Stickers]</th>\n      <th>¿Con qué frecuencia compras los siguientes productos (relacionados con la industria musical: artistas, bandas, etc.)? [Posters]</th>\n      <th>¿Con qué frecuencia compras los siguientes productos (relacionados con la industria musical: artistas, bandas, etc.)? [Bolsas o tote bags]</th>\n      <th>¿Con qué frecuencia compras los siguientes productos (relacionados con la industria musical: artistas, bandas, etc.)? [Llaveros o pines]</th>\n      <th>¿Qué otro tipo de productos compras de tus artistas o bandas favoritas?</th>\n      <th>¿Cuáles son las marcas o productos que consumes o están presentes cuando disfrutas de tus hobbies (es decir, mientras juegas videojuegos, haces ejercicio, escuchas música, sales con amigos, etc.)?</th>\n    </tr>\n  </thead>\n  <tbody>\n    <tr>\n      <th>count</th>\n      <td>129</td>\n      <td>129</td>\n      <td>129</td>\n      <td>129</td>\n      <td>129</td>\n      <td>129</td>\n      <td>95</td>\n      <td>129</td>\n      <td>129</td>\n      <td>129</td>\n      <td>...</td>\n      <td>129</td>\n      <td>129</td>\n      <td>129</td>\n      <td>129</td>\n      <td>129</td>\n      <td>129</td>\n      <td>129</td>\n      <td>129</td>\n      <td>96</td>\n      <td>128</td>\n    </tr>\n    <tr>\n      <th>unique</th>\n      <td>3</td>\n      <td>6</td>\n      <td>74</td>\n      <td>7</td>\n      <td>99</td>\n      <td>10</td>\n      <td>6</td>\n      <td>1</td>\n      <td>5</td>\n      <td>6</td>\n      <td>...</td>\n      <td>4</td>\n      <td>4</td>\n      <td>4</td>\n      <td>4</td>\n      <td>4</td>\n      <td>4</td>\n      <td>4</td>\n      <td>4</td>\n      <td>83</td>\n      <td>116</td>\n    </tr>\n    <tr>\n      <th>top</th>\n      <td>Femenino</td>\n      <td>Soltero</td>\n      <td>Azcapotzalco</td>\n      <td>Licenciatura Incompleta</td>\n      <td>UNAM</td>\n      <td>Solo estudio</td>\n      <td>Mi padre/madre o tutor</td>\n      <td>Sí</td>\n      <td>1</td>\n      <td>1</td>\n      <td>...</td>\n      <td>Nunca</td>\n      <td>Nunca</td>\n      <td>Nunca</td>\n      <td>Nunca</td>\n      <td>Nunca</td>\n      <td>Nunca</td>\n      <td>Nunca</td>\n      <td>Nunca</td>\n      <td>Ninguno</td>\n      <td>.</td>\n    </tr>\n    <tr>\n      <th>freq</th>\n      <td>70</td>\n      <td>114</td>\n      <td>8</td>\n      <td>74</td>\n      <td>11</td>\n      <td>53</td>\n      <td>80</td>\n      <td>129</td>\n      <td>55</td>\n      <td>49</td>\n      <td>...</td>\n      <td>91</td>\n      <td>82</td>\n      <td>82</td>\n      <td>64</td>\n      <td>50</td>\n      <td>49</td>\n      <td>63</td>\n      <td>42</td>\n      <td>6</td>\n      <td>5</td>\n    </tr>\n  </tbody>\n</table>\n<p>4 rows × 110 columns</p>\n</div>"
     },
     "execution_count": 11,
     "metadata": {},
     "output_type": "execute_result"
    }
   ],
   "source": [
    "data.describe(include=['O'])"
   ],
   "metadata": {
    "collapsed": false,
    "ExecuteTime": {
     "end_time": "2024-11-08T20:06:04.363733Z",
     "start_time": "2024-11-08T20:06:04.307081Z"
    }
   },
   "execution_count": 11
  },
  {
   "cell_type": "markdown",
   "source": [
    "analizamos el tamaño del data.shape"
   ],
   "metadata": {
    "collapsed": false
   }
  },
  {
   "cell_type": "code",
   "outputs": [
    {
     "data": {
      "text/plain": "(129, 112)"
     },
     "execution_count": 12,
     "metadata": {},
     "output_type": "execute_result"
    }
   ],
   "source": [
    "data.shape"
   ],
   "metadata": {
    "collapsed": false,
    "ExecuteTime": {
     "end_time": "2024-11-08T20:17:41.179269Z",
     "start_time": "2024-11-08T20:17:41.172317Z"
    }
   },
   "execution_count": 12
  },
  {
   "cell_type": "code",
   "outputs": [
    {
     "name": "stdout",
     "output_type": "stream",
     "text": [
      "<class 'pandas.core.frame.DataFrame'>\n",
      "RangeIndex: 129 entries, 0 to 128\n",
      "Columns: 112 entries, id to ¿Cuáles son las marcas o productos que consumes o están presentes cuando disfrutas de tus hobbies (es decir, mientras juegas videojuegos, haces ejercicio, escuchas música, sales con amigos, etc.)?   \n",
      "dtypes: int64(2), object(110)\n",
      "memory usage: 113.0+ KB\n"
     ]
    }
   ],
   "source": [
    "data.info()"
   ],
   "metadata": {
    "collapsed": false,
    "ExecuteTime": {
     "end_time": "2024-11-08T20:18:45.737720Z",
     "start_time": "2024-11-08T20:18:45.704156Z"
    }
   },
   "execution_count": 13
  },
  {
   "cell_type": "code",
   "outputs": [],
   "source": [],
   "metadata": {
    "collapsed": false
   }
  }
 ],
 "metadata": {
  "kernelspec": {
   "display_name": "Python 3",
   "language": "python",
   "name": "python3"
  },
  "language_info": {
   "codemirror_mode": {
    "name": "ipython",
    "version": 3
   },
   "file_extension": ".py",
   "mimetype": "text/x-python",
   "name": "python",
   "nbconvert_exporter": "python",
   "pygments_lexer": "ipython3",
   "version": "3.12.0"
  }
 },
 "nbformat": 4,
 "nbformat_minor": 2
}
